{
 "cells": [
  {
   "cell_type": "markdown",
   "metadata": {},
   "source": [
    "## Python ile Veri görselleştirme : \n",
    "\n",
    "Matplotlib : Low level, karışıktır. Büyük babadır.\n",
    "\n",
    "Pandas : Veri manipulasyon ve görselleştirme için kullanılabilir. kolay kullanıma sahip high level aracılık sağlar. Matplotlib üzerine inşa edilmiştir.\n",
    "\n",
    "Seaborn : Matplotlib üzerine inşa edilmiştir. High level işlem yapmayı sağlar\n",
    "\n",
    "ggplot : R dünyasında yer alan kütüphane. Görselleştirme katman mantığındadır.\n",
    "\n",
    "Bokeh : İnteraktif ve büyük veri üzerinde performanslıdır. Hızlı ve kolaydır.\n",
    "\n",
    "Plot.ly : Birçok prog. diliyle çalışır. profesyoneldir. Python ve R kullanılır.\n",
    "   "
   ]
  },
  {
   "cell_type": "code",
   "execution_count": null,
   "metadata": {},
   "outputs": [],
   "source": []
  }
 ],
 "metadata": {
  "kernelspec": {
   "display_name": "Python 3",
   "language": "python",
   "name": "python3"
  },
  "language_info": {
   "codemirror_mode": {
    "name": "ipython",
    "version": 3
   },
   "file_extension": ".py",
   "mimetype": "text/x-python",
   "name": "python",
   "nbconvert_exporter": "python",
   "pygments_lexer": "ipython3",
   "version": "3.7.6"
  }
 },
 "nbformat": 4,
 "nbformat_minor": 4
}
